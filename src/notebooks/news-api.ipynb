{
 "cells": [
  {
   "cell_type": "code",
   "execution_count": 1,
   "metadata": {},
   "outputs": [
    {
     "data": {
      "text/plain": [
       "True"
      ]
     },
     "execution_count": 1,
     "metadata": {},
     "output_type": "execute_result"
    }
   ],
   "source": [
    "import requests\n",
    "import os\n",
    "import json\n",
    "\n",
    "# load environment variables\n",
    "from dotenv import load_dotenv\n",
    "load_dotenv()"
   ]
  },
  {
   "cell_type": "code",
   "execution_count": 2,
   "metadata": {},
   "outputs": [],
   "source": [
    "# get today's date\n",
    "from datetime import date\n",
    "today = date.today().strftime(\"%Y-%m-%d\")\n"
   ]
  },
  {
   "cell_type": "code",
   "execution_count": null,
   "metadata": {},
   "outputs": [],
   "source": []
  },
  {
   "cell_type": "code",
   "execution_count": 6,
   "metadata": {},
   "outputs": [],
   "source": [
    "def make_news_request(page_num:int=0):\n",
    "    # make a request to the News API\n",
    "    url = ('https://newsapi.org/v2/everything?')\n",
    "    parameters = {\n",
    "        'q': 'the' # query phrase\n",
    "        ,'from': today\n",
    "        ,'to': today\n",
    "        ,'sortBy': 'popularity'\n",
    "        ,'apiKey': os.getenv(\"NEWS_API_KEY_1\")\n",
    "        ,'pageSize': 2\n",
    "        ,'page': page_num\n",
    "    }\n",
    "    response = requests.get(url, params=parameters)\n",
    "\n",
    "    # assert 200 else print error\n",
    "    assert response.status_code == 200, \"Error: {}\".format(response.status_code)\n",
    "\n",
    "    parsed_response = json.loads(response.text)\n",
    "    return parsed_response"
   ]
  },
  {
   "cell_type": "code",
   "execution_count": 14,
   "metadata": {},
   "outputs": [],
   "source": [
    "def make_corpus_dict(parsed_response):\n",
    "    json.dumps(parsed_response[\"articles\"])\n",
    "    corpus_dict = {}\n",
    "    for article in parsed_response[\"articles\"]:\n",
    "        corpus_dict[f'{article[\"url\"]}'] = f'{article[\"title\"]}\\n{article[\"description\"]}\\n{article[\"content\"]}'\n",
    "    return corpus_dict\n"
   ]
  },
  {
   "cell_type": "code",
   "execution_count": 24,
   "metadata": {},
   "outputs": [],
   "source": [
    "def Merge(dict1, dict2):\n",
    "    \"\"\"helper function to merge two dictionaries\"\"\"\n",
    "    res = {**dict1, **dict2}\n",
    "    return res"
   ]
  },
  {
   "cell_type": "code",
   "execution_count": 26,
   "metadata": {},
   "outputs": [],
   "source": [
    "api_dict = Merge({p: os.getenv('NEWS_API_KEY_1') for p in range(1, 5)}, \n",
    "                {p: os.getenv('NEWS_API_KEY_2') for p in range(5, 10)})"
   ]
  },
  {
   "cell_type": "code",
   "execution_count": 7,
   "metadata": {},
   "outputs": [],
   "source": [
    "parsed_response = make_news_request(1)\n"
   ]
  },
  {
   "cell_type": "code",
   "execution_count": 13,
   "metadata": {},
   "outputs": [
    {
     "data": {
      "text/plain": [
       "'https://lifehacker.com/these-are-the-best-store-bought-pie-crusts-1849737398'"
      ]
     },
     "execution_count": 13,
     "metadata": {},
     "output_type": "execute_result"
    }
   ],
   "source": [
    "parsed_response['articles'][0]['url']"
   ]
  },
  {
   "cell_type": "code",
   "execution_count": 15,
   "metadata": {},
   "outputs": [
    {
     "data": {
      "text/plain": [
       "{'https://lifehacker.com/these-are-the-best-store-bought-pie-crusts-1849737398': 'These Are the Best Store-Bought Pie Crusts\\nDessert is always last—in eating order, but also on the priority prep list. Preparing the Thanksgiving turkey and a diverse list of sides is enough to pull the cook’s focus away from the pies on the menu. Enter: the store-bought pie crust, the fast and easy w…\\nDessert is always lastin eating order, but also on the priority prep list. Preparing the Thanksgiving turkey and a diverse list of sides is enough to pull the cooks focus away from the pies on the me… [+5122 chars]',\n",
       " 'https://lifehacker.com/a-beginners-guide-to-buying-your-first-gaming-pc-1849735385': \"A Beginner's Guide to Buying Your First Gaming PC\\nPC gaming has a reputation for being expensive and complicated. And sure, playing games on PC is arguably the “deep end” of the video game hobby compared to playing on consoles, but it’s much easier to wade into those waters than you might think.Read more...\\nPC gaming has a reputation for being expensive and complicated. And sure, playing games on PC is arguably the deep end of the video game hobby compared to playing on consoles, but its much easier to … [+11159 chars]\"}"
      ]
     },
     "execution_count": 15,
     "metadata": {},
     "output_type": "execute_result"
    }
   ],
   "source": [
    "corpus_dict = make_corpus_dict(parsed_response)\n",
    "corpus_dict"
   ]
  },
  {
   "cell_type": "code",
   "execution_count": 45,
   "metadata": {},
   "outputs": [
    {
     "ename": "AssertionError",
     "evalue": "Error: 426",
     "output_type": "error",
     "traceback": [
      "\u001b[0;31m---------------------------------------------------------------------------\u001b[0m",
      "\u001b[0;31mAssertionError\u001b[0m                            Traceback (most recent call last)",
      "Cell \u001b[0;32mIn [45], line 4\u001b[0m\n\u001b[1;32m      2\u001b[0m source \u001b[39m=\u001b[39m []\n\u001b[1;32m      3\u001b[0m \u001b[39mfor\u001b[39;00m i \u001b[39min\u001b[39;00m \u001b[39mrange\u001b[39m(\u001b[39m7\u001b[39m,\u001b[39m11\u001b[39m):\n\u001b[0;32m----> 4\u001b[0m     parsed_response \u001b[39m=\u001b[39m make_news_request(i)\n\u001b[1;32m      5\u001b[0m     page_corpus, page_source \u001b[39m=\u001b[39m make_corpus_source(parsed_response)\n\u001b[1;32m      6\u001b[0m     courpus\u001b[39m.\u001b[39mextend(page_corpus)\n",
      "Cell \u001b[0;32mIn [31], line 15\u001b[0m, in \u001b[0;36mmake_news_request\u001b[0;34m(page_num)\u001b[0m\n\u001b[1;32m     12\u001b[0m response \u001b[39m=\u001b[39m requests\u001b[39m.\u001b[39mget(url, params\u001b[39m=\u001b[39mparameters)\n\u001b[1;32m     14\u001b[0m \u001b[39m# assert 200 else print error\u001b[39;00m\n\u001b[0;32m---> 15\u001b[0m \u001b[39massert\u001b[39;00m response\u001b[39m.\u001b[39mstatus_code \u001b[39m==\u001b[39m \u001b[39m200\u001b[39m, \u001b[39m\"\u001b[39m\u001b[39mError: \u001b[39m\u001b[39m{}\u001b[39;00m\u001b[39m\"\u001b[39m\u001b[39m.\u001b[39mformat(response\u001b[39m.\u001b[39mstatus_code)\n\u001b[1;32m     17\u001b[0m parsed_response \u001b[39m=\u001b[39m json\u001b[39m.\u001b[39mloads(response\u001b[39m.\u001b[39mtext)\n\u001b[1;32m     18\u001b[0m \u001b[39mreturn\u001b[39;00m parsed_response\n",
      "\u001b[0;31mAssertionError\u001b[0m: Error: 426"
     ]
    }
   ],
   "source": [
    "courpus = []\n",
    "source = []\n",
    "for i in range(7,11):\n",
    "    parsed_response = make_news_request(i)\n",
    "    page_corpus, page_source = make_corpus_source(parsed_response)\n",
    "    courpus.extend(page_corpus)\n",
    "    source.extend(page_source)\n",
    "\n",
    "    # wait 60 seconds\n",
    "    import time\n",
    "    time.sleep(60)\n",
    "    \n",
    "\n",
    "\n"
   ]
  },
  {
   "cell_type": "code",
   "execution_count": 37,
   "metadata": {},
   "outputs": [
    {
     "name": "stdout",
     "output_type": "stream",
     "text": [
      "6\n"
     ]
    }
   ],
   "source": []
  },
  {
   "cell_type": "code",
   "execution_count": 41,
   "metadata": {},
   "outputs": [
    {
     "data": {
      "text/plain": [
       "'/home/madis/sandbox/nlp-news-vis/src/notebooks'"
      ]
     },
     "execution_count": 41,
     "metadata": {},
     "output_type": "execute_result"
    }
   ],
   "source": [
    "os.getcwd()"
   ]
  },
  {
   "cell_type": "code",
   "execution_count": 43,
   "metadata": {},
   "outputs": [],
   "source": []
  }
 ],
 "metadata": {
  "kernelspec": {
   "display_name": "Python 3.8.10 ('venv': venv)",
   "language": "python",
   "name": "python3"
  },
  "language_info": {
   "codemirror_mode": {
    "name": "ipython",
    "version": 3
   },
   "file_extension": ".py",
   "mimetype": "text/x-python",
   "name": "python",
   "nbconvert_exporter": "python",
   "pygments_lexer": "ipython3",
   "version": "3.8.10"
  },
  "orig_nbformat": 4,
  "vscode": {
   "interpreter": {
    "hash": "afa867082a9d4c3089b50428b4bebe9acd6efea914c9c5c7273dbc93aea2215b"
   }
  }
 },
 "nbformat": 4,
 "nbformat_minor": 2
}
